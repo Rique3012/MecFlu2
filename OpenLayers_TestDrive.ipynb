{
  "nbformat": 4,
  "nbformat_minor": 0,
  "metadata": {
    "colab": {
      "provenance": [],
      "authorship_tag": "ABX9TyMCvfHaseWwIHvIdyP6laTi",
      "include_colab_link": true
    },
    "kernelspec": {
      "name": "python3",
      "display_name": "Python 3"
    },
    "language_info": {
      "name": "python"
    },
    "widgets": {
      "application/vnd.jupyter.widget-state+json": {
        "a051e0c7a5d94ca6a87eecb759fb0143": {
          "model_module": "ipyopenlayers",
          "model_name": "MapModel",
          "model_module_version": "^0.2.1",
          "state": {
            "_dom_classes": [],
            "_model_module": "ipyopenlayers",
            "_model_module_version": "^0.2.1",
            "_model_name": "MapModel",
            "_view_count": null,
            "_view_module": "ipyopenlayers",
            "_view_module_version": "^0.2.1",
            "_view_name": "MapView",
            "center": [
              74.312634435872,
              -45.16947625458578
            ],
            "controls": [],
            "layers": [],
            "layout": "IPY_MODEL_5e66e8ebfe9d4beb943f2a5a5c401de0",
            "overlays": [],
            "tabbable": null,
            "tooltip": null,
            "zoom": 2.447459963325568
          }
        },
        "5e66e8ebfe9d4beb943f2a5a5c401de0": {
          "model_module": "@jupyter-widgets/base",
          "model_name": "LayoutModel",
          "model_module_version": "2.0.0",
          "state": {
            "_model_module": "@jupyter-widgets/base",
            "_model_module_version": "2.0.0",
            "_model_name": "LayoutModel",
            "_view_count": null,
            "_view_module": "@jupyter-widgets/base",
            "_view_module_version": "2.0.0",
            "_view_name": "LayoutView",
            "align_content": null,
            "align_items": null,
            "align_self": null,
            "border_bottom": null,
            "border_left": null,
            "border_right": null,
            "border_top": null,
            "bottom": null,
            "display": null,
            "flex": null,
            "flex_flow": null,
            "grid_area": null,
            "grid_auto_columns": null,
            "grid_auto_flow": null,
            "grid_auto_rows": null,
            "grid_column": null,
            "grid_gap": null,
            "grid_row": null,
            "grid_template_areas": null,
            "grid_template_columns": null,
            "grid_template_rows": null,
            "height": null,
            "justify_content": null,
            "justify_items": null,
            "left": null,
            "margin": null,
            "max_height": null,
            "max_width": null,
            "min_height": null,
            "min_width": null,
            "object_fit": null,
            "object_position": null,
            "order": null,
            "overflow": null,
            "padding": null,
            "right": null,
            "top": null,
            "visibility": null,
            "width": null
          }
        },
        "273c03d091c14bb2994206b0578de894": {
          "model_module": "ipyopenlayers",
          "model_name": "MapModel",
          "model_module_version": "^0.2.1",
          "state": {
            "_dom_classes": [],
            "_model_module": "ipyopenlayers",
            "_model_module_version": "^0.2.1",
            "_model_name": "MapModel",
            "_view_count": null,
            "_view_module": "ipyopenlayers",
            "_view_module_version": "^0.2.1",
            "_view_name": "MapView",
            "center": [
              34.961671451737296,
              31.25464753999141
            ],
            "controls": [
              "IPY_MODEL_9597d08900954f2abe737a705eee63f6"
            ],
            "layers": [
              "IPY_MODEL_b4ed9b5b6ab141d69aec4fbf8cc22481"
            ],
            "layout": "IPY_MODEL_187249d830c84993a439d2cb4df4b26d",
            "overlays": [],
            "tabbable": null,
            "tooltip": null,
            "zoom": 6.66373795159167
          }
        },
        "9597d08900954f2abe737a705eee63f6": {
          "model_module": "ipyopenlayers",
          "model_name": "ZoomSliderModel",
          "model_module_version": "^0.2.1",
          "state": {
            "_dom_classes": [],
            "_model_module": "ipyopenlayers",
            "_model_module_version": "^0.2.1",
            "_model_name": "ZoomSliderModel",
            "_view_count": null,
            "_view_module": "ipyopenlayers",
            "_view_module_version": "^0.2.1",
            "_view_name": "ZoomSliderView",
            "layout": "IPY_MODEL_8142c371ee874466acf43c74dee7963b",
            "tabbable": null,
            "tooltip": null
          }
        },
        "b4ed9b5b6ab141d69aec4fbf8cc22481": {
          "model_module": "ipyopenlayers",
          "model_name": "RasterTileLayerModel",
          "model_module_version": "^0.2.1",
          "state": {
            "_model_module": "ipyopenlayers",
            "_model_module_version": "^0.2.1",
            "_model_name": "RasterTileLayerModel",
            "_view_count": null,
            "_view_module": "ipyopenlayers",
            "_view_module_version": "^0.2.1",
            "_view_name": "RasterTileLayerView",
            "attribution": "",
            "max_zoom": 18,
            "min_zoom": 0,
            "opacity": 1,
            "source_format": {},
            "url": "https://{a-c}.basemaps.cartocdn.com/dark_all/{z}/{x}/{y}.png",
            "visible": true
          }
        },
        "187249d830c84993a439d2cb4df4b26d": {
          "model_module": "@jupyter-widgets/base",
          "model_name": "LayoutModel",
          "model_module_version": "2.0.0",
          "state": {
            "_model_module": "@jupyter-widgets/base",
            "_model_module_version": "2.0.0",
            "_model_name": "LayoutModel",
            "_view_count": null,
            "_view_module": "@jupyter-widgets/base",
            "_view_module_version": "2.0.0",
            "_view_name": "LayoutView",
            "align_content": null,
            "align_items": null,
            "align_self": null,
            "border_bottom": null,
            "border_left": null,
            "border_right": null,
            "border_top": null,
            "bottom": null,
            "display": null,
            "flex": null,
            "flex_flow": null,
            "grid_area": null,
            "grid_auto_columns": null,
            "grid_auto_flow": null,
            "grid_auto_rows": null,
            "grid_column": null,
            "grid_gap": null,
            "grid_row": null,
            "grid_template_areas": null,
            "grid_template_columns": null,
            "grid_template_rows": null,
            "height": null,
            "justify_content": null,
            "justify_items": null,
            "left": null,
            "margin": null,
            "max_height": null,
            "max_width": null,
            "min_height": null,
            "min_width": null,
            "object_fit": null,
            "object_position": null,
            "order": null,
            "overflow": null,
            "padding": null,
            "right": null,
            "top": null,
            "visibility": null,
            "width": null
          }
        },
        "8142c371ee874466acf43c74dee7963b": {
          "model_module": "@jupyter-widgets/base",
          "model_name": "LayoutModel",
          "model_module_version": "2.0.0",
          "state": {
            "_model_module": "@jupyter-widgets/base",
            "_model_module_version": "2.0.0",
            "_model_name": "LayoutModel",
            "_view_count": null,
            "_view_module": "@jupyter-widgets/base",
            "_view_module_version": "2.0.0",
            "_view_name": "LayoutView",
            "align_content": null,
            "align_items": null,
            "align_self": null,
            "border_bottom": null,
            "border_left": null,
            "border_right": null,
            "border_top": null,
            "bottom": null,
            "display": null,
            "flex": null,
            "flex_flow": null,
            "grid_area": null,
            "grid_auto_columns": null,
            "grid_auto_flow": null,
            "grid_auto_rows": null,
            "grid_column": null,
            "grid_gap": null,
            "grid_row": null,
            "grid_template_areas": null,
            "grid_template_columns": null,
            "grid_template_rows": null,
            "height": null,
            "justify_content": null,
            "justify_items": null,
            "left": null,
            "margin": null,
            "max_height": null,
            "max_width": null,
            "min_height": null,
            "min_width": null,
            "object_fit": null,
            "object_position": null,
            "order": null,
            "overflow": null,
            "padding": null,
            "right": null,
            "top": null,
            "visibility": null,
            "width": null
          }
        },
        "0086d71a04ed453c95ae932f05ccf846": {
          "model_module": "ipyopenlayers",
          "model_name": "MapModel",
          "model_module_version": "^0.2.1",
          "state": {
            "_dom_classes": [],
            "_model_module": "ipyopenlayers",
            "_model_module_version": "^0.2.1",
            "_model_name": "MapModel",
            "_view_count": null,
            "_view_module": "ipyopenlayers",
            "_view_module_version": "^0.2.1",
            "_view_name": "MapView",
            "center": [
              15.769770675294314,
              -20.452790640143633
            ],
            "controls": [],
            "layers": [
              "IPY_MODEL_6ec0112c59554e668f61467475e0244d"
            ],
            "layout": "IPY_MODEL_64ec471e25e84253bf43a0c18effd916",
            "overlays": [],
            "tabbable": null,
            "tooltip": null,
            "zoom": 1.9585527154310112
          }
        },
        "6ec0112c59554e668f61467475e0244d": {
          "model_module": "ipyopenlayers",
          "model_name": "VectorTileLayerModel",
          "model_module_version": "^0.2.1",
          "state": {
            "_model_module": "ipyopenlayers",
            "_model_module_version": "^0.2.1",
            "_model_name": "VectorTileLayerModel",
            "_view_count": null,
            "_view_module": "ipyopenlayers",
            "_view_module_version": "^0.2.1",
            "_view_name": "VectorTileLayerView",
            "attribution": "",
            "max_zoom": 18,
            "min_zoom": 0,
            "opacity": 1,
            "source_format": {
              "type": "MVT"
            },
            "style": {},
            "url": "https://basemaps.arcgis.com/arcgis/rest/services/World_Basemap_v2/VectorTileServer/tile/{z}/{y}/{x}.pbf",
            "visible": true
          }
        },
        "64ec471e25e84253bf43a0c18effd916": {
          "model_module": "@jupyter-widgets/base",
          "model_name": "LayoutModel",
          "model_module_version": "2.0.0",
          "state": {
            "_model_module": "@jupyter-widgets/base",
            "_model_module_version": "2.0.0",
            "_model_name": "LayoutModel",
            "_view_count": null,
            "_view_module": "@jupyter-widgets/base",
            "_view_module_version": "2.0.0",
            "_view_name": "LayoutView",
            "align_content": null,
            "align_items": null,
            "align_self": null,
            "border_bottom": null,
            "border_left": null,
            "border_right": null,
            "border_top": null,
            "bottom": null,
            "display": null,
            "flex": null,
            "flex_flow": null,
            "grid_area": null,
            "grid_auto_columns": null,
            "grid_auto_flow": null,
            "grid_auto_rows": null,
            "grid_column": null,
            "grid_gap": null,
            "grid_row": null,
            "grid_template_areas": null,
            "grid_template_columns": null,
            "grid_template_rows": null,
            "height": null,
            "justify_content": null,
            "justify_items": null,
            "left": null,
            "margin": null,
            "max_height": null,
            "max_width": null,
            "min_height": null,
            "min_width": null,
            "object_fit": null,
            "object_position": null,
            "order": null,
            "overflow": null,
            "padding": null,
            "right": null,
            "top": null,
            "visibility": null,
            "width": null
          }
        },
        "26902f73294d40dc86a981139f6119f1": {
          "model_module": "ipyopenlayers",
          "model_name": "MapModel",
          "model_module_version": "^0.2.1",
          "state": {
            "_dom_classes": [],
            "_model_module": "ipyopenlayers",
            "_model_module_version": "^0.2.1",
            "_model_name": "MapModel",
            "_view_count": null,
            "_view_module": "ipyopenlayers",
            "_view_module_version": "^0.2.1",
            "_view_name": "MapView",
            "center": [
              -77.18356435886457,
              34.17245685890373
            ],
            "controls": [],
            "layers": [
              "IPY_MODEL_29d8a595b3614ad7b7e0b848e1de9c76",
              "IPY_MODEL_e6b1975821724e47af53ed6dae5826c3"
            ],
            "layout": "IPY_MODEL_eb5eaee34fcd4423a2528a38157e80c8",
            "overlays": [],
            "tabbable": null,
            "tooltip": null,
            "zoom": 8.253633296905436
          }
        },
        "29d8a595b3614ad7b7e0b848e1de9c76": {
          "model_module": "ipyopenlayers",
          "model_name": "GeoTIFFTileLayerModel",
          "model_module_version": "^0.2.1",
          "state": {
            "_model_module": "ipyopenlayers",
            "_model_module_version": "^0.2.1",
            "_model_name": "GeoTIFFTileLayerModel",
            "_view_count": null,
            "_view_module": "ipyopenlayers",
            "_view_module_version": "^0.2.1",
            "_view_name": "GeoTIFFTileLayerView",
            "url": "https://sentinel-cogs.s3.us-west-2.amazonaws.com/sentinel-s2-l2a-cogs/36/Q/WD/2020/7/S2A_36QWD_20200701_0_L2A/TCI.tif"
          }
        },
        "e6b1975821724e47af53ed6dae5826c3": {
          "model_module": "ipyopenlayers",
          "model_name": "GeoTIFFTileLayerModel",
          "model_module_version": "^0.2.1",
          "state": {
            "_model_module": "ipyopenlayers",
            "_model_module_version": "^0.2.1",
            "_model_name": "GeoTIFFTileLayerModel",
            "_view_count": null,
            "_view_module": "ipyopenlayers",
            "_view_module_version": "^0.2.1",
            "_view_name": "GeoTIFFTileLayerView",
            "url": "https://sentinel-cogs.s3.us-west-2.amazonaws.com/sentinel-s2-l2a-cogs/36/Q/WD/2020/7/S2A_36QWD_20200701_0_L2A/TCI.tif"
          }
        },
        "eb5eaee34fcd4423a2528a38157e80c8": {
          "model_module": "@jupyter-widgets/base",
          "model_name": "LayoutModel",
          "model_module_version": "2.0.0",
          "state": {
            "_model_module": "@jupyter-widgets/base",
            "_model_module_version": "2.0.0",
            "_model_name": "LayoutModel",
            "_view_count": null,
            "_view_module": "@jupyter-widgets/base",
            "_view_module_version": "2.0.0",
            "_view_name": "LayoutView",
            "align_content": null,
            "align_items": null,
            "align_self": null,
            "border_bottom": null,
            "border_left": null,
            "border_right": null,
            "border_top": null,
            "bottom": null,
            "display": null,
            "flex": null,
            "flex_flow": null,
            "grid_area": null,
            "grid_auto_columns": null,
            "grid_auto_flow": null,
            "grid_auto_rows": null,
            "grid_column": null,
            "grid_gap": null,
            "grid_row": null,
            "grid_template_areas": null,
            "grid_template_columns": null,
            "grid_template_rows": null,
            "height": null,
            "justify_content": null,
            "justify_items": null,
            "left": null,
            "margin": null,
            "max_height": null,
            "max_width": null,
            "min_height": null,
            "min_width": null,
            "object_fit": null,
            "object_position": null,
            "order": null,
            "overflow": null,
            "padding": null,
            "right": null,
            "top": null,
            "visibility": null,
            "width": null
          }
        },
        "651f093b4c7544bbb46c876cafe555e6": {
          "model_module": "ipyopenlayers",
          "model_name": "MapModel",
          "model_module_version": "^0.2.1",
          "state": {
            "_dom_classes": [],
            "_model_module": "ipyopenlayers",
            "_model_module_version": "^0.2.1",
            "_model_name": "MapModel",
            "_view_count": null,
            "_view_module": "ipyopenlayers",
            "_view_module_version": "^0.2.1",
            "_view_name": "MapView",
            "center": [
              5.454648330695612,
              16.375192673782024
            ],
            "controls": [],
            "layers": [
              "IPY_MODEL_ffb462a779d24b3b89aff5daf3f989bf",
              "IPY_MODEL_e2ade7dfbea44c2eab593336fdd6c544"
            ],
            "layout": "IPY_MODEL_347a36c654bc4054bb726432f5e96467",
            "overlays": [],
            "tabbable": null,
            "tooltip": null,
            "zoom": 9.213851836926342
          }
        },
        "ffb462a779d24b3b89aff5daf3f989bf": {
          "model_module": "ipyopenlayers",
          "model_name": "RasterTileLayerModel",
          "model_module_version": "^0.2.1",
          "state": {
            "_model_module": "ipyopenlayers",
            "_model_module_version": "^0.2.1",
            "_model_name": "RasterTileLayerModel",
            "_view_count": null,
            "_view_module": "ipyopenlayers",
            "_view_module_version": "^0.2.1",
            "_view_name": "RasterTileLayerView",
            "attribution": "",
            "max_zoom": 18,
            "min_zoom": 0,
            "opacity": 1,
            "source_format": {},
            "url": "https://{a-c}.tile.openstreetmap.org/{z}/{x}/{y}.png",
            "visible": true
          }
        },
        "e2ade7dfbea44c2eab593336fdd6c544": {
          "model_module": "ipyopenlayers",
          "model_name": "GeoTIFFTileLayerModel",
          "model_module_version": "^0.2.1",
          "state": {
            "_model_module": "ipyopenlayers",
            "_model_module_version": "^0.2.1",
            "_model_name": "GeoTIFFTileLayerModel",
            "_view_count": null,
            "_view_module": "ipyopenlayers",
            "_view_module_version": "^0.2.1",
            "_view_name": "GeoTIFFTileLayerView",
            "url": "https://sentinel-cogs.s3.us-west-2.amazonaws.com/sentinel-s2-l2a-cogs/36/Q/WD/2020/7/S2A_36QWD_20200701_0_L2A/TCI.tif"
          }
        },
        "347a36c654bc4054bb726432f5e96467": {
          "model_module": "@jupyter-widgets/base",
          "model_name": "LayoutModel",
          "model_module_version": "2.0.0",
          "state": {
            "_model_module": "@jupyter-widgets/base",
            "_model_module_version": "2.0.0",
            "_model_name": "LayoutModel",
            "_view_count": null,
            "_view_module": "@jupyter-widgets/base",
            "_view_module_version": "2.0.0",
            "_view_name": "LayoutView",
            "align_content": null,
            "align_items": null,
            "align_self": null,
            "border_bottom": null,
            "border_left": null,
            "border_right": null,
            "border_top": null,
            "bottom": null,
            "display": null,
            "flex": null,
            "flex_flow": null,
            "grid_area": null,
            "grid_auto_columns": null,
            "grid_auto_flow": null,
            "grid_auto_rows": null,
            "grid_column": null,
            "grid_gap": null,
            "grid_row": null,
            "grid_template_areas": null,
            "grid_template_columns": null,
            "grid_template_rows": null,
            "height": null,
            "justify_content": null,
            "justify_items": null,
            "left": null,
            "margin": null,
            "max_height": null,
            "max_width": null,
            "min_height": null,
            "min_width": null,
            "object_fit": null,
            "object_position": null,
            "order": null,
            "overflow": null,
            "padding": null,
            "right": null,
            "top": null,
            "visibility": null,
            "width": null
          }
        }
      }
    }
  },
  "cells": [
    {
      "cell_type": "markdown",
      "metadata": {
        "id": "view-in-github",
        "colab_type": "text"
      },
      "source": [
        "<a href=\"https://colab.research.google.com/github/Rique3012/MecFlu2/blob/main/OpenLayers_TestDrive.ipynb\" target=\"_parent\"><img src=\"https://colab.research.google.com/assets/colab-badge.svg\" alt=\"Open In Colab\"/></a>"
      ]
    },
    {
      "cell_type": "code",
      "execution_count": 16,
      "metadata": {
        "colab": {
          "base_uri": "https://localhost:8080/"
        },
        "id": "8v4aOZBvSvwt",
        "outputId": "ec37f836-ff19-4567-ea42-7084c0527901"
      },
      "outputs": [
        {
          "output_type": "stream",
          "name": "stdout",
          "text": [
            "Requirement already satisfied: ipyopenlayers in /usr/local/lib/python3.10/dist-packages (0.2.1)\n",
            "Requirement already satisfied: ipywidgets>=8.0.0 in /usr/local/lib/python3.10/dist-packages (from ipyopenlayers) (8.1.5)\n",
            "Requirement already satisfied: traitlets in /usr/local/lib/python3.10/dist-packages (from ipyopenlayers) (5.7.1)\n",
            "Requirement already satisfied: comm>=0.1.3 in /usr/local/lib/python3.10/dist-packages (from ipywidgets>=8.0.0->ipyopenlayers) (0.2.2)\n",
            "Requirement already satisfied: ipython>=6.1.0 in /usr/local/lib/python3.10/dist-packages (from ipywidgets>=8.0.0->ipyopenlayers) (7.34.0)\n",
            "Requirement already satisfied: widgetsnbextension~=4.0.12 in /usr/local/lib/python3.10/dist-packages (from ipywidgets>=8.0.0->ipyopenlayers) (4.0.13)\n",
            "Requirement already satisfied: jupyterlab-widgets~=3.0.12 in /usr/local/lib/python3.10/dist-packages (from ipywidgets>=8.0.0->ipyopenlayers) (3.0.13)\n",
            "Requirement already satisfied: setuptools>=18.5 in /usr/local/lib/python3.10/dist-packages (from ipython>=6.1.0->ipywidgets>=8.0.0->ipyopenlayers) (71.0.4)\n",
            "Requirement already satisfied: jedi>=0.16 in /usr/local/lib/python3.10/dist-packages (from ipython>=6.1.0->ipywidgets>=8.0.0->ipyopenlayers) (0.19.1)\n",
            "Requirement already satisfied: decorator in /usr/local/lib/python3.10/dist-packages (from ipython>=6.1.0->ipywidgets>=8.0.0->ipyopenlayers) (4.4.2)\n",
            "Requirement already satisfied: pickleshare in /usr/local/lib/python3.10/dist-packages (from ipython>=6.1.0->ipywidgets>=8.0.0->ipyopenlayers) (0.7.5)\n",
            "Requirement already satisfied: prompt-toolkit!=3.0.0,!=3.0.1,<3.1.0,>=2.0.0 in /usr/local/lib/python3.10/dist-packages (from ipython>=6.1.0->ipywidgets>=8.0.0->ipyopenlayers) (3.0.47)\n",
            "Requirement already satisfied: pygments in /usr/local/lib/python3.10/dist-packages (from ipython>=6.1.0->ipywidgets>=8.0.0->ipyopenlayers) (2.18.0)\n",
            "Requirement already satisfied: backcall in /usr/local/lib/python3.10/dist-packages (from ipython>=6.1.0->ipywidgets>=8.0.0->ipyopenlayers) (0.2.0)\n",
            "Requirement already satisfied: matplotlib-inline in /usr/local/lib/python3.10/dist-packages (from ipython>=6.1.0->ipywidgets>=8.0.0->ipyopenlayers) (0.1.7)\n",
            "Requirement already satisfied: pexpect>4.3 in /usr/local/lib/python3.10/dist-packages (from ipython>=6.1.0->ipywidgets>=8.0.0->ipyopenlayers) (4.9.0)\n",
            "Requirement already satisfied: parso<0.9.0,>=0.8.3 in /usr/local/lib/python3.10/dist-packages (from jedi>=0.16->ipython>=6.1.0->ipywidgets>=8.0.0->ipyopenlayers) (0.8.4)\n",
            "Requirement already satisfied: ptyprocess>=0.5 in /usr/local/lib/python3.10/dist-packages (from pexpect>4.3->ipython>=6.1.0->ipywidgets>=8.0.0->ipyopenlayers) (0.7.0)\n",
            "Requirement already satisfied: wcwidth in /usr/local/lib/python3.10/dist-packages (from prompt-toolkit!=3.0.0,!=3.0.1,<3.1.0,>=2.0.0->ipython>=6.1.0->ipywidgets>=8.0.0->ipyopenlayers) (0.2.13)\n"
          ]
        }
      ],
      "source": [
        "!pip install ipyopenlayers"
      ]
    },
    {
      "cell_type": "code",
      "source": [
        "from ipyopenlayers import Map\n",
        "\n",
        "# Create a map centered on a specific location\n",
        "m = Map(center=[0, 0], zoom=2)\n",
        "# Display the map\n",
        "display (m)"
      ],
      "metadata": {
        "colab": {
          "base_uri": "https://localhost:8080/",
          "height": 421,
          "referenced_widgets": [
            "a051e0c7a5d94ca6a87eecb759fb0143",
            "5e66e8ebfe9d4beb943f2a5a5c401de0"
          ]
        },
        "id": "ODVyffdk_fbi",
        "outputId": "87f05586-14ad-4dbb-ddab-fb5615869335"
      },
      "execution_count": 26,
      "outputs": [
        {
          "output_type": "display_data",
          "data": {
            "text/plain": [
              "Map(center=[0, 0], zoom=2.0)"
            ],
            "application/vnd.jupyter.widget-view+json": {
              "version_major": 2,
              "version_minor": 0,
              "model_id": "a051e0c7a5d94ca6a87eecb759fb0143"
            }
          },
          "metadata": {
            "application/vnd.jupyter.widget-view+json": {
              "colab": {
                "custom_widget_manager": {
                  "url": "https://ssl.gstatic.com/colaboratory-static/widgets/colab-cdn-widget-manager/2b70e893a8ba7c0f/manager.min.js"
                }
              }
            }
          }
        }
      ]
    },
    {
      "cell_type": "code",
      "source": [
        "from ipyopenlayers import RasterTileLayer, ZoomSlider\n",
        "m =Map()\n",
        "# Add a raster tile layer\n",
        "raster_layer = RasterTileLayer(url='https://{a-c}.basemaps.cartocdn.com/dark_all/{z}/{x}/{y}.png')\n",
        "m.add_layer(raster_layer)\n",
        "\n",
        "# Add a zoom slider control\n",
        "zoom_slider = ZoomSlider()\n",
        "m.add_control(zoom_slider)\n",
        "display(m)"
      ],
      "metadata": {
        "colab": {
          "base_uri": "https://localhost:8080/",
          "height": 421,
          "referenced_widgets": [
            "273c03d091c14bb2994206b0578de894",
            "9597d08900954f2abe737a705eee63f6",
            "b4ed9b5b6ab141d69aec4fbf8cc22481",
            "187249d830c84993a439d2cb4df4b26d",
            "8142c371ee874466acf43c74dee7963b"
          ]
        },
        "id": "5kK7YQD9_xI1",
        "outputId": "432d47cb-6fc7-46b4-e7da-7480618bbf41"
      },
      "execution_count": 27,
      "outputs": [
        {
          "output_type": "display_data",
          "data": {
            "text/plain": [
              "Map(center=[0.0, 0.0], zoom=0.0)"
            ],
            "application/vnd.jupyter.widget-view+json": {
              "version_major": 2,
              "version_minor": 0,
              "model_id": "273c03d091c14bb2994206b0578de894"
            }
          },
          "metadata": {
            "application/vnd.jupyter.widget-view+json": {
              "colab": {
                "custom_widget_manager": {
                  "url": "https://ssl.gstatic.com/colaboratory-static/widgets/colab-cdn-widget-manager/2b70e893a8ba7c0f/manager.min.js"
                }
              }
            }
          }
        }
      ]
    },
    {
      "cell_type": "code",
      "source": [
        "from ipyopenlayers import Map, VectorTileLayer\n",
        "\n",
        "# Create a map centered at coordinates [0, 0] with zoom level 0\n",
        "m = Map(center=[0, 0], zoom=0)\n",
        "\n",
        "# Add a VectorTileLayer to the map\n",
        "vector_layer =  VectorTileLayer(\n",
        "url='https://basemaps.arcgis.com/arcgis/rest/services/World_Basemap_v2/VectorTileServer/tile/{z}/{y}/{x}.pbf',\n",
        "source_format={\n",
        "    'type': 'MVT',\n",
        "}\n",
        ")\n",
        "m.add_layer(vector_layer)\n",
        "\n",
        "# Display the map\n",
        "display(m)"
      ],
      "metadata": {
        "colab": {
          "base_uri": "https://localhost:8080/",
          "height": 421,
          "referenced_widgets": [
            "0086d71a04ed453c95ae932f05ccf846",
            "6ec0112c59554e668f61467475e0244d",
            "64ec471e25e84253bf43a0c18effd916"
          ]
        },
        "id": "JI-ofFhbAYBZ",
        "outputId": "b7c589db-fe6b-47a8-83b0-d8f6d284dd82"
      },
      "execution_count": 29,
      "outputs": [
        {
          "output_type": "display_data",
          "data": {
            "text/plain": [
              "Map(center=[0, 0], zoom=0.0)"
            ],
            "application/vnd.jupyter.widget-view+json": {
              "version_major": 2,
              "version_minor": 0,
              "model_id": "0086d71a04ed453c95ae932f05ccf846"
            }
          },
          "metadata": {
            "application/vnd.jupyter.widget-view+json": {
              "colab": {
                "custom_widget_manager": {
                  "url": "https://ssl.gstatic.com/colaboratory-static/widgets/colab-cdn-widget-manager/2b70e893a8ba7c0f/manager.min.js"
                }
              }
            }
          }
        }
      ]
    },
    {
      "cell_type": "code",
      "source": [
        "from ipyopenlayers import GeoTIFFTileLayer\n",
        "\n",
        "# Create a GeoTIFF layer\n",
        "geo_tiff_layer = GeoTIFFTileLayer(url='https://sentinel-cogs.s3.us-west-2.amazonaws.com/sentinel-s2-l2a-cogs/36/Q/WD/2020/7/S2A_36QWD_20200701_0_L2A/TCI.tif')\n",
        "m.add_layer(geo_tiff_layer)\n",
        "\n",
        "display(m)"
      ],
      "metadata": {
        "colab": {
          "base_uri": "https://localhost:8080/",
          "height": 421,
          "referenced_widgets": [
            "26902f73294d40dc86a981139f6119f1",
            "29d8a595b3614ad7b7e0b848e1de9c76",
            "e6b1975821724e47af53ed6dae5826c3",
            "eb5eaee34fcd4423a2528a38157e80c8"
          ]
        },
        "id": "ZFYvP2KPBIAt",
        "outputId": "10b0cfea-ea34-44d2-a0a9-bee60cf9f1fb"
      },
      "execution_count": 32,
      "outputs": [
        {
          "output_type": "display_data",
          "data": {
            "text/plain": [
              "Map(center=[-77.15641232105159, 34.561348453091625], zoom=9.5)"
            ],
            "application/vnd.jupyter.widget-view+json": {
              "version_major": 2,
              "version_minor": 0,
              "model_id": "26902f73294d40dc86a981139f6119f1"
            }
          },
          "metadata": {
            "application/vnd.jupyter.widget-view+json": {
              "colab": {
                "custom_widget_manager": {
                  "url": "https://ssl.gstatic.com/colaboratory-static/widgets/colab-cdn-widget-manager/2b70e893a8ba7c0f/manager.min.js"
                }
              }
            }
          }
        }
      ]
    },
    {
      "cell_type": "code",
      "source": [
        "from ipyopenlayers import Map, GeoTIFFTileLayer,RasterTileLayer\n",
        "\n",
        "# Create a map centered at the specified coordinates with a zoom level of 9\n",
        "m = Map(center=[5.314329221346643, 16.3625002926901], zoom=9)\n",
        "\n",
        "# Add layer\n",
        "layer=RasterTileLayer()\n",
        "m.add_layer(layer)\n",
        "\n",
        "# Create and add a GeoTIFFTileLayer to the map\n",
        "geo_tiff_layer = GeoTIFFTileLayer(url='https://sentinel-cogs.s3.us-west-2.amazonaws.com/sentinel-s2-l2a-cogs/36/Q/WD/2020/7/S2A_36QWD_20200701_0_L2A/TCI.tif')\n",
        "m.add_layer(geo_tiff_layer)\n",
        "\n",
        "# Display the map\n",
        "display(m)"
      ],
      "metadata": {
        "colab": {
          "base_uri": "https://localhost:8080/",
          "height": 421,
          "referenced_widgets": [
            "651f093b4c7544bbb46c876cafe555e6",
            "ffb462a779d24b3b89aff5daf3f989bf",
            "e2ade7dfbea44c2eab593336fdd6c544",
            "347a36c654bc4054bb726432f5e96467"
          ]
        },
        "id": "PDsOUsPnCSx4",
        "outputId": "bdd02523-93f1-4389-fa3b-7db00e288efa"
      },
      "execution_count": 33,
      "outputs": [
        {
          "output_type": "display_data",
          "data": {
            "text/plain": [
              "Map(center=[5.314329221346643, 16.3625002926901], zoom=9.0)"
            ],
            "application/vnd.jupyter.widget-view+json": {
              "version_major": 2,
              "version_minor": 0,
              "model_id": "651f093b4c7544bbb46c876cafe555e6"
            }
          },
          "metadata": {
            "application/vnd.jupyter.widget-view+json": {
              "colab": {
                "custom_widget_manager": {
                  "url": "https://ssl.gstatic.com/colaboratory-static/widgets/colab-cdn-widget-manager/2b70e893a8ba7c0f/manager.min.js"
                }
              }
            }
          }
        }
      ]
    },
    {
      "cell_type": "code",
      "source": [
        "from google.colab import output\n",
        "output.enable_custom_widget_manager()"
      ],
      "metadata": {
        "id": "Z81dDOAm_rpc"
      },
      "execution_count": 25,
      "outputs": []
    },
    {
      "cell_type": "markdown",
      "source": [
        "Support for third party widgets will remain active for the duration of the session. To disable support:"
      ],
      "metadata": {
        "id": "4nJUn3FA_rpd"
      }
    },
    {
      "cell_type": "code",
      "source": [
        "from google.colab import output\n",
        "output.disable_custom_widget_manager()"
      ],
      "metadata": {
        "id": "Qbocimed_rpe"
      },
      "execution_count": null,
      "outputs": []
    }
  ]
}